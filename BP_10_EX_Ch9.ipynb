{
  "nbformat": 4,
  "nbformat_minor": 0,
  "metadata": {
    "colab": {
      "provenance": [],
      "authorship_tag": "ABX9TyMI5vuroFtd2UGyuBZypDKd",
      "include_colab_link": true
    },
    "kernelspec": {
      "name": "python3",
      "display_name": "Python 3"
    },
    "language_info": {
      "name": "python"
    }
  },
  "cells": [
    {
      "cell_type": "markdown",
      "metadata": {
        "id": "view-in-github",
        "colab_type": "text"
      },
      "source": [
        "<a href=\"https://colab.research.google.com/github/minho1110/BP_10_Ch9/blob/main/BP_10_EX_Ch9.ipynb\" target=\"_parent\"><img src=\"https://colab.research.google.com/assets/colab-badge.svg\" alt=\"Open In Colab\"/></a>"
      ]
    },
    {
      "cell_type": "code",
      "execution_count": 1,
      "metadata": {
        "colab": {
          "base_uri": "https://localhost:8080/"
        },
        "id": "zYvSYC-HYQ_O",
        "outputId": "d0def491-cecc-4ca0-f8e4-e42241dd7778"
      },
      "outputs": [
        {
          "output_type": "stream",
          "name": "stdout",
          "text": [
            "정수를 입력해주세요 : 10\n",
            "정수를 입력해주세요 : 20\n",
            "정수를 입력해주세요 : 30\n",
            "정수를 입력해주세요 : 40\n",
            "정수를 입력해주세요 : 50\n",
            "30.0\n"
          ]
        }
      ],
      "source": [
        "alist = []\n",
        "sum = 0\n",
        "for i in range(5):\n",
        "    i = int(input(\"정수를 입력해주세요 : \"))\n",
        "    alist.append(i)\n",
        "    sum += i\n",
        "\n",
        "avg = sum/len(alist)\n",
        "print(avg)"
      ]
    },
    {
      "cell_type": "code",
      "source": [
        "import random\n",
        "counters = [0, 0, 0, 0, 0, 0] #리스트생성\n",
        "\n",
        "for i in range(1000):   #반복문1000번생성\n",
        "    value = random.randint(0, 5)\n",
        "    counters[value] = counters[value] +1\n",
        "\n",
        "for i in range(6):\n",
        "    print(\"주사위가\", i+1,\"인 경우는 :\", counters[i], \"번\")"
      ],
      "metadata": {
        "colab": {
          "base_uri": "https://localhost:8080/"
        },
        "id": "syMFmtGRYoSQ",
        "outputId": "e240f97a-1018-442f-f9cc-e88bfa1dabc0"
      },
      "execution_count": 3,
      "outputs": [
        {
          "output_type": "stream",
          "name": "stdout",
          "text": [
            "주사위가 1 인 경우는 : 176 번\n",
            "주사위가 2 인 경우는 : 165 번\n",
            "주사위가 3 인 경우는 : 165 번\n",
            "주사위가 4 인 경우는 : 169 번\n",
            "주사위가 5 인 경우는 : 161 번\n",
            "주사위가 6 인 경우는 : 164 번\n"
          ]
        }
      ]
    },
    {
      "cell_type": "code",
      "source": [
        "def inputData(): \n",
        "    while True:\n",
        "        name = input(\"(입력모드)이름을 입력하시오: \")\n",
        "        if not name: break;\n",
        "        tel = input(\"전화번호를 입력하시오: \") \n",
        "\n",
        "        contact[name] = tel\n",
        "        \n",
        "def select(): \n",
        "    while True:\n",
        "        name = input(\"(검색모드)이름을 입력하시오: \")\n",
        "        \n",
        "        if not name: break;\n",
        "        print(name,\"의 전화번호는\",contact[name],\"입니다.\")\n",
        "        \n",
        "contact = {}\n",
        "\n",
        "while True:\n",
        "    inputData()\n",
        "    select()"
      ],
      "metadata": {
        "id": "pAKOxwjwbDug"
      },
      "execution_count": null,
      "outputs": []
    },
    {
      "cell_type": "code",
      "source": [
        "import turtle\n",
        "t=turtle.Turtle()\n",
        "def draw(x,y,c):\n",
        "    \n",
        "    for c in [\"red\",\"blue\",\"green\",\"yellow\"]: #리스트에 저장된 색이 순서대로 표현\n",
        "        t.goto(x,y) \n",
        "        t.fillcolor(c) \n",
        "        t.begin_fill()\n",
        "        t.fd(100) #사각형 그리기\n",
        "        t.rt(90)\n",
        "        t.fd(100)\n",
        "        t.rt(90)\n",
        "        t.fd(100)\n",
        "        t.rt(90)\n",
        "        t.fd(100)\n",
        "        t.end_fill()\n",
        "    \n",
        "   \n",
        "draw(10,10,0)"
      ],
      "metadata": {
        "id": "VzKoixv3bEgw"
      },
      "execution_count": null,
      "outputs": []
    },
    {
      "cell_type": "code",
      "source": [],
      "metadata": {
        "id": "yp1vJaYYbfcM"
      },
      "execution_count": null,
      "outputs": []
    },
    {
      "cell_type": "code",
      "source": [
        "import turtle #터틀모듈\n",
        "import random #랜덤모듈\n",
        "t=turtle.Turtle() \n",
        "\n",
        "c=random.randint(0,3)\n",
        "def star(color,length,x,y): #함수정의\n",
        "    t.penup()\n",
        "    t.goto(x,y) #좌표이동\n",
        "    t.pendown()\n",
        "    t.fillcolor(color) #색선정\n",
        "    t.begin_fill()\n",
        "    for i in range(5): #도형그리기\n",
        "             \n",
        "            t.fd(length)\n",
        "            t.rt(144)\n",
        "    t.end_fill()\n",
        "for i in range(10):#별10개 그리기\n",
        "    for color in [\"red\",\"blue\",\"green\",\"yellow\"]: #색 리스트\n",
        "        x=random.randint(1,200) #랜던 좌표및 길이 랜덤으로 지정\n",
        "        y=random.randint(1,200)\n",
        "        length=random.randint(50,200)\n",
        "        star(color,length,x,y)#star함수 실행\n",
        " "
      ],
      "metadata": {
        "id": "zZl8zg3ObtCZ"
      },
      "execution_count": null,
      "outputs": []
    },
    {
      "cell_type": "code",
      "source": [
        "domain={\"kr\":\"대한민국\",\"sk\":\"슬로바키아\",\"no\":\"노르웨이\",\"us\":\"미국\",\"jp\":\"일본\",\"de\":\"독일\"}\n",
        "for k,v in domain.items():\n",
        "    print(k,\":\",v)"
      ],
      "metadata": {
        "colab": {
          "base_uri": "https://localhost:8080/"
        },
        "id": "c5iCJ5Q6b2kh",
        "outputId": "99722bd9-bafd-425a-8b05-deabfef444f0"
      },
      "execution_count": 12,
      "outputs": [
        {
          "output_type": "stream",
          "name": "stdout",
          "text": [
            "kr : 대한민국\n",
            "sk : 슬로바키아\n",
            "no : 노르웨이\n",
            "us : 미국\n",
            "jp : 일본\n",
            "de : 독일\n"
          ]
        }
      ]
    },
    {
      "cell_type": "code",
      "source": [
        "problems={\"파이썬\":\"최근에 가장떠오르는 프로그래밍 언어\",\"변수\":\"데이터를 저장하는 메모리 공간\",\"함수\":\"작업을 수행하는 문장들의 집합에 이름을 붙인 것\",\"리스트\":\"서로 관련이 없는 항목들의 모임\"}\n",
        "for k,v in problems.items():\n",
        "    print(v)\n",
        "    print(\"다음은 어떤 단어에 대한 설명일까요?\")\n",
        "    print(\"(1)파이썬 (2)함수 (3)리스트 (4)변수\")\n",
        "    ans=input()\n",
        "    if ans==k:\n",
        "        print(\"정답입니다!\")\n",
        "    else:\n",
        "        print(\"틀렸습니다\")"
      ],
      "metadata": {
        "colab": {
          "base_uri": "https://localhost:8080/"
        },
        "id": "C4cNBxfnb8SQ",
        "outputId": "4cece135-fcc7-41e4-f69b-7dd61fb2c6ed"
      },
      "execution_count": null,
      "outputs": [
        {
          "output_type": "stream",
          "name": "stdout",
          "text": [
            "최근에 가장떠오르는 프로그래밍 언어\n",
            "다음은 어떤 단어에 대한 설명일까요?\n",
            "(1)파이썬 (2)함수 (3)리스트 (4)변수\n",
            "파이썬\n",
            "정답입니다!\n",
            "데이터를 저장하는 메모리 공간\n",
            "다음은 어떤 단어에 대한 설명일까요?\n",
            "(1)파이썬 (2)함수 (3)리스트 (4)변수\n"
          ]
        }
      ]
    },
    {
      "cell_type": "code",
      "source": [],
      "metadata": {
        "id": "IIXcSFdNcMbt"
      },
      "execution_count": null,
      "outputs": []
    }
  ]
}